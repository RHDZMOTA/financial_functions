{
 "cells": [
  {
   "cell_type": "markdown",
   "metadata": {},
   "source": [
    "# Financial Functions Package\n",
    "\n",
    "The financial function packages provides generic financial operations and classes to perform financial mathematics, risk assesment, ..."
   ]
  },
  {
   "cell_type": "markdown",
   "metadata": {},
   "source": [
    "### dependencies\n"
   ]
  },
  {
   "cell_type": "code",
   "execution_count": 1,
   "metadata": {
    "collapsed": true
   },
   "outputs": [],
   "source": [
    "\n",
    "import numpy as np\n",
    "import pandas as pd\n",
    "import matplotlib.pyplot as plt\n",
    "from datetime import datetime, date\n"
   ]
  },
  {
   "cell_type": "markdown",
   "metadata": {},
   "source": [
    "## FUNCTIONS "
   ]
  },
  {
   "cell_type": "markdown",
   "metadata": {},
   "source": [
    "### toDate"
   ]
  },
  {
   "cell_type": "code",
   "execution_count": 2,
   "metadata": {
    "collapsed": true
   },
   "outputs": [],
   "source": [
    "def toDate(datetime_obj):\n",
    "    '''toDate function\n",
    "    Transforms a datetime object to date. \n",
    "    '''\n",
    "    return date(datetime_obj.year, datetime_obj.month, datetime_obj.day)"
   ]
  },
  {
   "cell_type": "code",
   "execution_count": 6,
   "metadata": {
    "collapsed": false
   },
   "outputs": [
    {
     "data": {
      "text/plain": [
       "datetime.datetime"
      ]
     },
     "execution_count": 6,
     "metadata": {},
     "output_type": "execute_result"
    }
   ],
   "source": [
    "# declare a datetime object \n",
    "test_date = datetime.strptime('2016/10/01', '%Y/%m/%d')\n",
    "type(test_date)"
   ]
  },
  {
   "cell_type": "code",
   "execution_count": 7,
   "metadata": {
    "collapsed": false
   },
   "outputs": [
    {
     "data": {
      "text/plain": [
       "datetime.date"
      ]
     },
     "execution_count": 7,
     "metadata": {},
     "output_type": "execute_result"
    }
   ],
   "source": [
    "test_date = toDate(test_date)\n",
    "type(test_date)"
   ]
  },
  {
   "cell_type": "markdown",
   "metadata": {},
   "source": [
    "### futureValue\n",
    "\n",
    "Calculate the future value of a present captial for some periods and interest rate. \n",
    "\n",
    "$$ S_{t+n} = S_t (1 + i)^n$$\n",
    "\n",
    "**Note** the provided interest rate must be decimal and adjusted to the capitalization periods. "
   ]
  },
  {
   "cell_type": "code",
   "execution_count": 9,
   "metadata": {
    "collapsed": true
   },
   "outputs": [],
   "source": [
    "futureValue = lambda capital, interest, periods: capital * (1 + interest) ** periods"
   ]
  },
  {
   "cell_type": "code",
   "execution_count": 16,
   "metadata": {
    "collapsed": false
   },
   "outputs": [
    {
     "name": "stdout",
     "output_type": "stream",
     "text": [
      "The future value of 1000 monetary units at a given interest rate of 0.01 and 4 periods is: 1040.60401 monetary units.\n"
     ]
    }
   ],
   "source": [
    "initial_capital = 1000\n",
    "interest        = 0.01\n",
    "periods         = 4\n",
    "\n",
    "future_value = futureValue(initial_capital, interest, periods)\n",
    "\n",
    "string = 'The future value of {} monetary units at a given interest rate of {} and {} periods is: {} monetary units.'\n",
    "print(string.format(initial_capital, interest, periods, future_value))"
   ]
  },
  {
   "cell_type": "markdown",
   "metadata": {},
   "source": [
    "### contFutureValue \n",
    "Calculate the future value of a present capital with continuously compunding interest rate. \n",
    "\n",
    "$$ S_{t+y} = S_t e^{r y}$$\n",
    "\n",
    "**Note** for compatibility with other functions time must be set to years."
   ]
  },
  {
   "cell_type": "code",
   "execution_count": 94,
   "metadata": {
    "collapsed": true
   },
   "outputs": [],
   "source": [
    "contFutureValue = lambda capital, interest, years: capital * np.exp(interest * years)"
   ]
  },
  {
   "cell_type": "code",
   "execution_count": 108,
   "metadata": {
    "collapsed": false
   },
   "outputs": [
    {
     "data": {
      "image/png": "[encoded data removed]",
      "text/plain": [
       "<matplotlib.figure.Figure at 0x2372030>"
      ]
     },
     "metadata": {},
     "output_type": "display_data"
    }
   ],
   "source": [
    "years = np.arange(20)\n",
    "\n",
    "f = np.vectorize(lambda x: contFutureValue(100, 0.16, x))\n",
    "\n",
    "plt.plot(years, f(years))\n",
    "plt.xlabel('years')\n",
    "plt.ylabel('Monetary units')\n",
    "plt.title('Investment value')\n",
    "plt.grid()\n",
    "plt.show()"
   ]
  },
  {
   "cell_type": "markdown",
   "metadata": {},
   "source": [
    "### contPresentValue\n",
    "Calculate the present value of a future capital with continuously compunding interest rate. \n",
    "\n",
    "$$ S_t = S_{t+y} e^{-r y}$$"
   ]
  },
  {
   "cell_type": "code",
   "execution_count": 109,
   "metadata": {
    "collapsed": true
   },
   "outputs": [],
   "source": [
    "contPresentValue = lambda capital, interest, years: capital * np.exp(-interest * years)"
   ]
  },
  {
   "cell_type": "code",
   "execution_count": 112,
   "metadata": {
    "collapsed": false
   },
   "outputs": [
    {
     "data": {
      "image/png": "[encoded data removed]",
      "text/plain": [
       "<matplotlib.figure.Figure at 0x2411ef0>"
      ]
     },
     "metadata": {},
     "output_type": "display_data"
    }
   ],
   "source": [
    "years = np.arange(20)\n",
    "\n",
    "f = np.vectorize(lambda x: contPresentValue(1000, 0.16, x))\n",
    "\n",
    "plt.plot(years, f(years))\n",
    "plt.xlabel('years')\n",
    "plt.ylabel('Monetary units')\n",
    "plt.title('Present Value')\n",
    "plt.grid()\n",
    "plt.show()"
   ]
  },
  {
   "cell_type": "markdown",
   "metadata": {},
   "source": [
    "### presetValue\n",
    "\n",
    "Calulate the present value of a future capital for some periods and interest rate. \n",
    "\n",
    "$$ S_t = S_{t+n}(1+i)^{-n}$$\n",
    "\n",
    "**Note** the provided interest rate must be decimal and adjusted to the capitalization periods. "
   ]
  },
  {
   "cell_type": "code",
   "execution_count": 17,
   "metadata": {
    "collapsed": true
   },
   "outputs": [],
   "source": [
    "presetValue = lambda capital, interest, periods: capital * (1 + interest) ** (-periods)"
   ]
  },
  {
   "cell_type": "code",
   "execution_count": 18,
   "metadata": {
    "collapsed": false
   },
   "outputs": [
    {
     "name": "stdout",
     "output_type": "stream",
     "text": [
      "The present value of 1040.60401 monetary units at a given interest rate of 0.01 and 4 periods is: 1000.0 monetary units.\n"
     ]
    }
   ],
   "source": [
    "initial_capital = 1000\n",
    "interest        = 0.01\n",
    "periods         = 4\n",
    "\n",
    "future_value = futureValue(initial_capital, interest, periods)\n",
    "present_value= presetValue(future_value,    interest, periods)\n",
    "\n",
    "string = 'The present value of {} monetary units at a given interest rate of {} and {} periods is: {} monetary units.'\n",
    "print(string.format(future_value, interest, periods, present_value))"
   ]
  },
  {
   "cell_type": "markdown",
   "metadata": {},
   "source": [
    "### annualInterest\n",
    "\n",
    "Calculate the annual interest rate...\n",
    "\n",
    "$$ S_{t+y} = S_t (1+i)^y$$\n",
    "\n",
    "$$ i = (S_{t+y} S_t^{-1})^{\\frac{1}{y}} - 1 $$"
   ]
  },
  {
   "cell_type": "code",
   "execution_count": 22,
   "metadata": {
    "collapsed": true
   },
   "outputs": [],
   "source": [
    "annualInterest = lambda initial_capital, end_capital, years: (end_capital / initial_capital) ** (1 / years) - 1"
   ]
  },
  {
   "cell_type": "code",
   "execution_count": 31,
   "metadata": {
    "collapsed": false
   },
   "outputs": [
    {
     "name": "stdout",
     "output_type": "stream",
     "text": [
      "The annual interest rate with one capitalization per year for 2 year-investment \n",
      "with initial capital of 1000 and final capital of 1200 is: 9.54 %\n"
     ]
    }
   ],
   "source": [
    "initial_capital = 1000\n",
    "final_capital   = 1200\n",
    "years           = 2\n",
    "\n",
    "annual_interest = annualInterest(initial_capital, final_capital, years)\n",
    "\n",
    "string = 'The annual interest rate with one capitalization per year for {} year-investment \\nwith initial capital of {} and final capital of {} is: {:.2f} %'\n",
    "print(string.format(years, initial_capital, final_capital, 100*annual_interest))"
   ]
  },
  {
   "cell_type": "markdown",
   "metadata": {},
   "source": [
    "### equivalentAnnualInterest\n",
    "\n",
    "Calculate the equivalent annual interest rate (interest rate with 1y capitalization) for a given interest rate i with cap-capitalizations per year. \n",
    "\n",
    "$$ (1 + \\frac{r}{c})^{c} = (1 + i)^{1}$$ \n",
    "\n",
    "$$ i = (1 + \\frac{r}{c})^{c} - 1 $$"
   ]
  },
  {
   "cell_type": "code",
   "execution_count": 32,
   "metadata": {
    "collapsed": true
   },
   "outputs": [],
   "source": [
    "equivalentAnnualInterest = lambda rate, cap: (1 + rate / cap) ** cap - 1 "
   ]
  },
  {
   "cell_type": "code",
   "execution_count": 113,
   "metadata": {
    "collapsed": false
   },
   "outputs": [
    {
     "data": {
      "text/plain": [
       "0.12682503013196977"
      ]
     },
     "execution_count": 113,
     "metadata": {},
     "output_type": "execute_result"
    }
   ],
   "source": [
    "rate_1m = 0.12\n",
    "annual_eq = equivalentAnnualInterest(rate_1m, 12)\n",
    "annual_eq"
   ]
  },
  {
   "cell_type": "markdown",
   "metadata": {},
   "source": [
    "### equivalentRate\n",
    "\n",
    "Calcuulate the equivalent interest rate with custom new_cap-capitalizations per year for a given interest rate with cap-capitalizations per year. \n",
    "\n",
    "\n",
    "$$ (1 + \\frac{r}{c})^{c} = (1 + \\frac{i}{nc})^{nc}$$ \n",
    "\n",
    "$$ i = nc((1 + \\frac{r}{c})^{\\frac{c}{nc}} - 1)$$"
   ]
  },
  {
   "cell_type": "code",
   "execution_count": 34,
   "metadata": {
    "collapsed": true
   },
   "outputs": [],
   "source": [
    "equivalentRate = lambda rate, cap, new_cap: new_cap * ((1 + rate / cap) ** (cap / new_cap) - 1)"
   ]
  },
  {
   "cell_type": "code",
   "execution_count": 81,
   "metadata": {
    "collapsed": true
   },
   "outputs": [],
   "source": [
    "rate_1m = 0.12 \n",
    "rate_3y = equivalentRate(rate_1m, 12, 1/3)"
   ]
  },
  {
   "cell_type": "code",
   "execution_count": 82,
   "metadata": {
    "collapsed": false
   },
   "outputs": [
    {
     "name": "stdout",
     "output_type": "stream",
     "text": [
      "100 monetary units investment in 1 year. \n",
      "\n",
      "FutureValue using rate_1m: 112.68250301319698\n",
      "FutureValue using rate_3y: 112.68250301319698\n"
     ]
    }
   ],
   "source": [
    "fv_1m = futureValue(100, rate_1m / 12, 12)\n",
    "fv_3y = futureValue(100, 3*rate_3y, 1/3)\n",
    "\n",
    "print('100 monetary units investment in 1 year. \\n')\n",
    "print('FutureValue using rate_1m: {}'.format(fv_1m))\n",
    "print('FutureValue using rate_3y: {}'.format(fv_3y))"
   ]
  },
  {
   "cell_type": "markdown",
   "metadata": {},
   "source": [
    "### contEquivalentRate\n",
    "\n",
    "$$ (1 + i)^y = e^{y*r} $$\n",
    "\n",
    "$$ r = ln(1+i)$$"
   ]
  },
  {
   "cell_type": "code",
   "execution_count": 80,
   "metadata": {
    "collapsed": true
   },
   "outputs": [],
   "source": [
    "def contEquivalentRate(rate, cap):\n",
    "    '''contEquivalentRate function\n",
    "    add description \n",
    "    \n",
    "    ---- inputs \n",
    "    rate:\n",
    "    cap: \n",
    "    \n",
    "    ----- outputs\n",
    "    Continuosly cap interest rate (time must be set to years)\n",
    "    '''\n",
    "    \n",
    "    # equivalent annual interest rate \n",
    "    i = equivalentAnnualInterest(rate, cap)\n",
    "    \n",
    "    return np.log(1+i)"
   ]
  },
  {
   "cell_type": "code",
   "execution_count": 78,
   "metadata": {
    "collapsed": false
   },
   "outputs": [],
   "source": [
    "rate_1m = 0.12\n",
    "eq_rate = contEquivalentRate(rate_1m, 12)"
   ]
  },
  {
   "cell_type": "code",
   "execution_count": 79,
   "metadata": {
    "collapsed": false
   },
   "outputs": [
    {
     "name": "stdout",
     "output_type": "stream",
     "text": [
      "Future_value rate_1m: 112.68250301319698\n",
      "Future_value eq_rate: 112.68250301319698\n"
     ]
    }
   ],
   "source": [
    "present_value = 100\n",
    "\n",
    "print('Future_value rate_1m: {}\\nFuture_value eq_rate: {}'.format(futureValue(present_value,rate_1m/12,12), 100*np.exp(eq_rate)))"
   ]
  },
  {
   "cell_type": "markdown",
   "metadata": {},
   "source": [
    "### getRiskFreeRate\n",
    "\n",
    "Get the mexican risk-free reference rate from the institutional webpage of the cental bank."
   ]
  },
  {
   "cell_type": "code",
   "execution_count": 38,
   "metadata": {
    "collapsed": true
   },
   "outputs": [],
   "source": [
    "def getRiskFreeRate():\n",
    "    '''getRiskFreeRate function.\n",
    "    description: This fuction returns the risk-free interest rate (cetes) for 28,91,182 days.\n",
    "    \n",
    "    ---- inputs\n",
    "     \n",
    "    \n",
    "    ---- outputs\n",
    "    \n",
    "    \n",
    "    '''\n",
    "    \n",
    "    # import libraries\n",
    "    import urllib.request\n",
    "    \n",
    "    # open url to get source\n",
    "    with urllib.request.urlopen('http://www.banxico.org.mx/SieInternet/'+\n",
    "                                'consultarDirectorioInternetAction.do?a'+\n",
    "                                'ccion=consultarCuadro&idCuadro=CF107&s'+\n",
    "                                'ector=22&locale=es') as response:\n",
    "        \n",
    "        # read source and save as string \n",
    "        html_source = response.read().decode('latin-1')\n",
    "    \n",
    "    \n",
    "    # identify target\n",
    "    def getTarget(source):\n",
    "        '''getTarget function\n",
    "        description: function adapted to retrieve the value of cetes interest rate. \n",
    "        \n",
    "        ---- inputs\n",
    "        source: \n",
    "        \n",
    "        ---- outputs\n",
    "        position_index: \n",
    "        value: \n",
    "        \n",
    "        '''\n",
    "        \n",
    "        tasa_de_rendimiento = source.find('Tasa de rendimiento')\n",
    "        visibility_hidden   = 0\n",
    "        \n",
    "        for i in range(3):\n",
    "            visibility_hidden += source[tasa_de_rendimiento:][visibility_hidden:].find('<span style=\"visibility:hidden\">')+34\n",
    "            \n",
    "        position_index = tasa_de_rendimiento + visibility_hidden - 10 - 34\n",
    "        value          = float(source[position_index:position_index+10].strip(' '))\n",
    "        return position_index, value\n",
    "\n",
    "    \n",
    "    # get key,values and save in dictionary \n",
    "    cetes_dictionary = {}\n",
    "    reference_index  = 0\n",
    "    \n",
    "    for i in [28, 91, 182]:\n",
    "        html_source            = html_source[reference_index:]\n",
    "        reference_index, value = getTarget(html_source)\n",
    "        cetes_dictionary[i]    = value\n",
    "    \n",
    "    \n",
    "    return cetes_dictionary\n"
   ]
  },
  {
   "cell_type": "code",
   "execution_count": 43,
   "metadata": {
    "collapsed": false
   },
   "outputs": [
    {
     "name": "stdout",
     "output_type": "stream",
     "text": [
      "CETES 28 : 5.65\n",
      "CETES 91 : 5.83\n",
      "CETES 182: 6.09\n"
     ]
    }
   ],
   "source": [
    "cetes_dictionary = getRiskFreeRate()\n",
    "\n",
    "print('CETES 28 : {}\\nCETES 91 : {}\\nCETES 182: {}'.format(cetes_dictionary[28], cetes_dictionary[91], cetes_dictionary[182]))"
   ]
  },
  {
   "cell_type": "markdown",
   "metadata": {},
   "source": [
    "## CLASSES "
   ]
  },
  {
   "cell_type": "markdown",
   "metadata": {},
   "source": [
    "### interest_rate"
   ]
  },
  {
   "cell_type": "code",
   "execution_count": 412,
   "metadata": {
    "collapsed": false
   },
   "outputs": [],
   "source": [
    "class interest_rate:\n",
    "    \n",
    "    # basic description and references\n",
    "    desc          = 'Interest Rate Object'\n",
    "    cap_options   = {'daily':360, '1m':12, '2m':6, '3m':4, '4m':3, '6m':2, '1y':1, 'cont':float('inf')}\n",
    "    cetes         = getRiskFreeRate()\n",
    "    \n",
    "    \n",
    "    # init class \n",
    "    def __init__(self, rate = {'rate':0.12, 'cap':12}):\n",
    "        self.reference_rate = rate\n",
    "    \n",
    "    def annualRate(self, cap_desc):\n",
    "        '''calulate_equivalent method\n",
    "        Use the reference_rate to calculate different equivalent rates. \n",
    "        Specif: daily, monthly, 2-months, 3-months, 4-months, 6-months, 1y, continuously\n",
    "        '''\n",
    "        \n",
    "        # get capitalization frequency\n",
    "        if type(cap_desc) == type(' '):\n",
    "            aux = self.cap_options[cap_desc]\n",
    "        elif type(cap_desc) == type(1):\n",
    "            aux = cap_desc\n",
    "        \n",
    "        if cap_desc == 'cont':\n",
    "            return contEquivalentRate(self.reference_rate['rate'], self.reference_rate['cap'])\n",
    "        \n",
    "        return equivalentRate(self.reference_rate['rate'], self.reference_rate['cap'], aux)\n",
    "        \n",
    "\n",
    "    def rate(self, cap_desc):\n",
    "        '''rate method\n",
    "        Use equivalentRate to generate a ready-to-use rate.\n",
    "        '''\n",
    "        \n",
    "        # get capitalization frequency\n",
    "        if type(cap_desc) == type(' '):\n",
    "            aux = self.cap_options[cap_desc]\n",
    "        elif type(cap_desc) == type(1):\n",
    "            aux = cap_desc\n",
    "        \n",
    "        if cap_desc == 'cont':\n",
    "            return self.annualRate(cap_desc)\n",
    "        \n",
    "        return self.annualRate(cap_desc) / aux\n",
    "    \n",
    "    def riskFreeSpread(self, risk_free = 28, silence = False, kind = 'cont'):\n",
    "        '''riskFreeSpread function\n",
    "        Calculate the spread between the risk free interest rate and the pacted interest rate.\n",
    "        kind = ['cont','eq_annual']\n",
    "        '''\n",
    "        \n",
    "        # catch error \n",
    "        # TODO: check if risk_free is on cetes.keys()\n",
    "        \n",
    "        if kind == 'cont':\n",
    "            r  = contEquivalentRate(self.reference_rate['rate'], self.reference_rate['cap'])\n",
    "            rf = contEquivalentRate(self.cetes[risk_free] / 100, 360/risk_free)\n",
    "            if not silence:\n",
    "                print('Decimal spread for equivalent continuos interest ({:.2f}% - {:.2f}%): {}'.format(100*r, 100*rf,r - rf))\n",
    "            return r - rf \n",
    "        \n",
    "        r  = equivalentAnnualInterest(self.reference_rate['rate'], self.reference_rate['cap'])\n",
    "        rf = equivalentAnnualInterest(self.cetes[risk_free] / 100, 360/risk_free)\n",
    "        if not silence:\n",
    "            print('Decimal spread for equivalent annual interest ({:.2f}% - {:.2f}%): {}'.format(100*r, 100*rf,r - rf))\n",
    "        return r - rf \n",
    "    "
   ]
  },
  {
   "cell_type": "code",
   "execution_count": 413,
   "metadata": {
    "collapsed": true
   },
   "outputs": [],
   "source": [
    "# Declare a scpecific intereste rate instance\n",
    "specific_interest = interest_rate({'rate':0.12, 'cap':12})\n",
    "\n"
   ]
  },
  {
   "cell_type": "code",
   "execution_count": 414,
   "metadata": {
    "collapsed": false
   },
   "outputs": [
    {
     "data": {
      "text/plain": [
       "0.11940397023801703"
      ]
     },
     "execution_count": 414,
     "metadata": {},
     "output_type": "execute_result"
    }
   ],
   "source": [
    "specific_interest.rate('cont')"
   ]
  },
  {
   "cell_type": "code",
   "execution_count": 415,
   "metadata": {
    "collapsed": false
   },
   "outputs": [
    {
     "data": {
      "text/plain": [
       "0.00033173270623421125"
      ]
     },
     "execution_count": 415,
     "metadata": {},
     "output_type": "execute_result"
    }
   ],
   "source": [
    "specific_interest.rate(360)"
   ]
  },
  {
   "cell_type": "code",
   "execution_count": 416,
   "metadata": {
    "collapsed": false
   },
   "outputs": [
    {
     "name": "stdout",
     "output_type": "stream",
     "text": [
      "Decimal spread for equivalent continuos interest (11.94% - 5.64%): 0.0630277507948731\n"
     ]
    }
   ],
   "source": [
    "spread = specific_interest.riskFreeSpread()"
   ]
  },
  {
   "cell_type": "markdown",
   "metadata": {},
   "source": [
    "### debt"
   ]
  },
  {
   "cell_type": "code",
   "execution_count": 409,
   "metadata": {
    "collapsed": false
   },
   "outputs": [],
   "source": [
    "class debt:\n",
    "\n",
    "    desc = 'Interest Rate Object'\n",
    "    rate_options  = {360:'daily', 12:'1m', 6:'2m', 4:'3m', 3:'4m', 2:'6m', 1:'1y'}\n",
    "    cap_options   = {'daily':360, '1m':12, '2m':6, '3m':4, '4m':3, '6m':2, '1y':1}\n",
    "    cetes         = getRiskFreeRate()\n",
    "\n",
    "    def __init__(self, initial_date, final_date,capital = 10000, rate = {'rate':0.12, 'cap':12}, discount_rate = 28):\n",
    "            \n",
    "        self.payments = []\n",
    "        self.invalid_payments = []\n",
    "        \n",
    "        # dates \n",
    "        self.initial_date   = toDate(datetime.strptime(initial_date, '%b %d %Y'))\n",
    "        self.final_date     = toDate(datetime.strptime(final_date, '%b %d %Y'))\n",
    "        self.actual_date    = toDate(datetime.now())\n",
    "            \n",
    "        self.initial_date_string = initial_date\n",
    "        self.final_date_string   = final_date\n",
    "\n",
    "        # capital \n",
    "        self.capital = capital\n",
    "\n",
    "        # rate \n",
    "        self.reference_rate = rate\n",
    "        self.i = interest_rate(self.reference_rate)\n",
    "\n",
    "        self.final_capital  = round(futureValue(capital, self.i.rate(360), (self.final_date - self.initial_date).days), 2)\n",
    "\n",
    "        # discount rate\n",
    "        # TODO: validate \n",
    "\n",
    "        self.discount_rate = interest_rate({'rate':self.cetes[discount_rate]/100, 'cap':360/discount_rate})\n",
    "    \n",
    "    def daysToGo(self, ref_date = None):\n",
    "        '''daysToGo functions \n",
    "        Returns the days between actual_date and final_date \n",
    "        '''\n",
    "        if type(ref_date) == type(None):\n",
    "            ref_date = self.actual_date\n",
    "        \n",
    "        if type(ref_date) == type(''):\n",
    "            ref_date = toDate(datetime.strptime(ref_date, '%b %d %Y'))\n",
    "        \n",
    "        return (self.final_date - ref_date).days\n",
    "\n",
    "    \n",
    "    def diffDates(self, date0, date1):\n",
    "        '''diffDates\n",
    "        Returns the diff betwenn two dates\n",
    "        '''\n",
    "        date0 = toDate(datetime.strptime(date0, '%b %d %Y'))\n",
    "        date1 = toDate(datetime.strptime(date1, '%b %d %Y'))\n",
    "        return (date1-date0).days\n",
    "\n",
    "    def discountRate(self, cap_desc):\n",
    "        '''discountRate function\n",
    "        Use discountRate function to get the discount interest rate for...\n",
    "        '''\n",
    "        \n",
    "        return self.discount_rate.rate(cap_desc)\n",
    "    \n",
    "    def registerPayment(self, amount, date = 'now'):\n",
    "        '''registerPayment function\n",
    "        add description\n",
    "        '''\n",
    "        \n",
    "        if 'now' in date:\n",
    "            date = datetime.strftime(datetime.now(), '%b %d %Y')\n",
    "        \n",
    "        if len(self.payments) == 0:\n",
    "            self.payments.append({'id':1,'date':date,'amount':amount,'valid':True})\n",
    "        else:\n",
    "            new_id = self.payments[-1]['id'] + 1\n",
    "            self.payments.append({'id':new_id,'date':date,'amount':amount,'valid':True})\n",
    "    \n",
    "    def invalidPayments(self, _id):\n",
    "        '''invalidPayments function\n",
    "        '''\n",
    "        self.invalid_payments.append(_id)\n",
    "        \n",
    "        if len(self.payments) != 0:\n",
    "            for _index in range(len(self.payments)):\n",
    "                if self.payments[_index]['id'] in self.invalid_payments:\n",
    "                    self.payments[_index]['valid'] = False\n",
    "                    \n",
    "    def deleteInvalidPayment(self, _id):\n",
    "        '''deleteInvalidPayment function\n",
    "        '''\n",
    "        ip = []\n",
    "        for i in self.invalid_payments:\n",
    "            if i != _id:\n",
    "                ip.append(i)\n",
    "                \n",
    "        if len(self.payments) != 0:\n",
    "            for _index in range(len(self.payments)):\n",
    "                if self.payments[_index]['id'] == _id:\n",
    "                    self.payments[_index]['valid'] = True  \n",
    "                    \n",
    "        self.invalid_payments = ip\n",
    "        \n",
    "    def resetInvalidPayments(self):\n",
    "        '''resetInvalidPayments function\n",
    "        '''\n",
    "        self.invalid_payments = []\n",
    "        # TODO: update payment status\n",
    "        \n",
    "    def resetPayments(self):\n",
    "        '''resetPayments function\n",
    "        Reset payments.\n",
    "        '''\n",
    "        self.payments = []\n",
    "    \n",
    "    \n",
    "    def actualFinalDebt(self):\n",
    "        '''actualFinalDebt function\n",
    "        '''\n",
    "        \n",
    "        if len(self.payments) == 0:\n",
    "            return self.final_capital\n",
    "        \n",
    "        total = 0\n",
    "        for _index in range(len(self.payments)):\n",
    "            \n",
    "            if not self.payments[_index]['valid']:\n",
    "                continue\n",
    "                \n",
    "            _date = self.payments[_index]['date']\n",
    "            _amount = self.payments[_index]['amount']\n",
    "            _delta  = self.daysToGo(_date)\n",
    "            _future = futureValue(_amount, self.discountRate('daily'), _delta)\n",
    "            total += _future\n",
    "        \n",
    "        actual_debt = self.final_capital - total\n",
    "        \n",
    "        if actual_debt < 0:\n",
    "            return 0\n",
    "            \n",
    "        return actual_debt\n",
    "\n",
    "    def actualPresentDebt(self):\n",
    "        '''actualPresentDebt function \n",
    "        '''\n",
    "        afd = self.actualFinalDebt()\n",
    "        return presetValue(afd, self.discountRate('daily'), self.daysToGo())\n",
    "    \n",
    "    def payDebt(self, pay_date = None):\n",
    "        '''payDebt function\n",
    "        Calculate the debt value (present value of final_capital using discount rate) to a given time. \n",
    "        '''\n",
    "        \n",
    "        if type(pay_date) == type(None):\n",
    "            pay_date = toDate(datetime.now())\n",
    "        else:\n",
    "            pay_date = toDate(datetime.strptime(pay_date, '%b %d %Y'))\n",
    "        \n",
    "        # get dates \n",
    "        days = self.daysToGo(ref_date = pay_date)\n",
    "        \n",
    "        # get discount \n",
    "        dr = self.discountRate('daily')\n",
    "        \n",
    "        # return present value\n",
    "        return presetValue(self.actualFinalDebt(),dr, days)\n",
    "        \n",
    "    \n",
    "    def simulate(self, periods = 1, cap_desc = '1y', initial_capital = ''):\n",
    "        '''simulate function\n",
    "        Simulate debt growth (with pacted interest rate) for n-periods accordig to cap_desc. \n",
    "        '''\n",
    "        \n",
    "        if type(initial_capital) == type(''):\n",
    "            initial_capital = self.capital\n",
    "        \n",
    "        return futureValue(initial_capital, self.rate(cap_desc), periods)\n",
    "    \n",
    "    def simulateYears(self, years = 1, cap_desc = '1y', initial_capital = ''):\n",
    "        '''simulatYears function\n",
    "        Simulate debt growth (with pacted interest rate) for n-years according to cap_desc. \n",
    "        '''\n",
    "        \n",
    "        if type(initial_capital) == type(''):\n",
    "            initial_capital = self.capital\n",
    "            \n",
    "        return futureValue(initial_capital, self.rate(cap_desc), years * self.cap_options[cap_desc])\n",
    "\n",
    "    def simulateMonths(self, months = 1, cap_desc = '1y', initial_capital = ''):\n",
    "        '''simulateMonths function \n",
    "        Simulate debt growth (with pacted interest rate) for n-months according to cap_desc.\n",
    "        '''\n",
    "        \n",
    "        if type(initial_capital) == type(''):\n",
    "            initial_capital = self.capital\n",
    "        \n",
    "        return self.simulateYears(initial_capital, months / 12, cap_desc)\n",
    "    \n",
    "    def status(self, silence = True):\n",
    "        '''status function\n",
    "        '''\n",
    "        \n",
    "        flag = self.daysToGo()\n",
    "        \n",
    "        if self.actualFinalDebt() == 0:\n",
    "            self.debt_status = 'Done.'\n",
    "        if flag < 0 and self.actualFinalDebt() > 0:\n",
    "            self.debt_status = 'Overdue.'\n",
    "        if flag > 0 and self.actualFinalDebt() > 0:\n",
    "            self.debt_status = 'Active.'\n",
    "            \n",
    "        if not silence:\n",
    "            print(self.debt_status)\n",
    "            \n",
    "        return self.debt_status\n",
    "    \n",
    "    def summary(self):\n",
    "        '''summary function\n",
    "        '''\n",
    "        print(datetime.strftime(datetime.now(),'%b %d %Y'))\n",
    "        \n",
    "        st = '\\nStatus: {}\\nDays to go: {}\\n\\nInitial Capital: {}\\nFinal Capital  : {}\\nInterest Rate (cont. annual): {:.4f} %\\n'\n",
    "        ri = 'Discount Rate (cont. annual): {:.4f} %\\n\\nRemaining Debt: {}\\nPresent Value : {}\\n'\n",
    "        ng = '\\nPayments info: \\n'\n",
    "        \n",
    "        for i in range(len(self.payments)):\n",
    "            if not self.payments[i]['valid']:\n",
    "                continue \n",
    "            ng+='\\n- id: {} date: {} amount: {}'.format(self.payments[i]['id'],\n",
    "                                                        self.payments[i]['date'], \n",
    "                                                        self.payments[i]['amount'])\n",
    "        \n",
    "        st = st.format(self.status(), self.daysToGo() , self.capital, self.final_capital, 100*self.i.rate('cont'))\n",
    "        ri = ri.format(100*self.discountRate('cont'),round(self.actualFinalDebt(),2), round(self.actualPresentDebt(),2))\n",
    "        #ng = ng.format()\n",
    "        \n",
    "        print(st+ri+ng)\n",
    "        \n",
    "    def save(self, active = False):\n",
    "        '''save function\n",
    "        '''\n",
    "        \n",
    "        if active:\n",
    "            import query_module.query_functions as qm\n",
    "            db_path = ''\n",
    "            pass\n",
    "        \n",
    "        pass\n",
    "    \n",
    "    def update(self, active = False):\n",
    "        '''update function\n",
    "        '''\n",
    "        \n",
    "        if active: \n",
    "            import query_module.query_functions as qm\n",
    "            db_path = ''\n",
    "            pass \n",
    "        \n",
    "        pass"
   ]
  },
  {
   "cell_type": "markdown",
   "metadata": {},
   "source": [
    "-------------------------------------------------------------------------\n",
    "\n",
    "Set the pacted terms of a debt. \n",
    "\n",
    "**Note:** discount_rate variables makes reference to id of the reference rate (cetes, i.e. 28, 91, 182)."
   ]
  },
  {
   "cell_type": "code",
   "execution_count": 410,
   "metadata": {
    "collapsed": false
   },
   "outputs": [],
   "source": [
    "pacted_terms = debt(initial_date = 'Oct 1 2016',\n",
    "                    final_date = 'Jun 25 2017' ,\n",
    "                    capital = 100, \n",
    "                    rate = {'rate':0.12, 'cap':12}, \n",
    "                    discount_rate = 28)"
   ]
  },
  {
   "cell_type": "markdown",
   "metadata": {},
   "source": [
    "Verify the pacted information."
   ]
  },
  {
   "cell_type": "code",
   "execution_count": 411,
   "metadata": {
    "collapsed": false
   },
   "outputs": [
    {
     "name": "stdout",
     "output_type": "stream",
     "text": [
      "Dec 22 2016\n",
      "\n",
      "Status: Active.\n",
      "Days to go: 185\n",
      "\n",
      "Initial Capital: 100\n",
      "Final Capital  : 109.26\n",
      "Interest Rate (cont. annual): 11.9404 %\n",
      "Discount Rate (cont. annual): 5.6376 %\n",
      "\n",
      "Remaining Debt: 109.26\n",
      "Present Value : 106.14\n",
      "\n",
      "Payments info: \n",
      "\n"
     ]
    }
   ],
   "source": [
    "pacted_terms.summary()"
   ]
  },
  {
   "cell_type": "markdown",
   "metadata": {},
   "source": [
    "Add parcial payments."
   ]
  },
  {
   "cell_type": "code",
   "execution_count": 400,
   "metadata": {
    "collapsed": true
   },
   "outputs": [],
   "source": [
    "pacted_terms.registerPayment(amount = 10, date = 'Nov 27 2016')\n",
    "pacted_terms.registerPayment(amount = 20, date = 'Dec 03 2016')\n",
    "pacted_terms.registerPayment(amount = 2 , date = 'Dec 14 2016')"
   ]
  },
  {
   "cell_type": "markdown",
   "metadata": {},
   "source": [
    "Visualize the updated summary. "
   ]
  },
  {
   "cell_type": "code",
   "execution_count": 401,
   "metadata": {
    "collapsed": false
   },
   "outputs": [
    {
     "name": "stdout",
     "output_type": "stream",
     "text": [
      "Dec 22 2016\n",
      "\n",
      "Status: Active.\n",
      "Days to go: 185\n",
      "\n",
      "Initial Capital: 100\n",
      "Final Capital  : 109.26\n",
      "Interest Rate (cont. annual): 11.9404 %\n",
      "Discount Rate (cont. annual): 5.6376 %\n",
      "\n",
      "Remaining Debt: 76.22\n",
      "Present Value : 74.04\n",
      "\n",
      "Payments info: \n",
      "\n",
      "- id: 1 date: Nov 27 2016 amount: 10\n",
      "- id: 2 date: Dec 03 2016 amount: 20\n",
      "- id: 3 date: Dec 14 2016 amount: 2\n"
     ]
    }
   ],
   "source": [
    "pacted_terms.summary()"
   ]
  },
  {
   "cell_type": "markdown",
   "metadata": {},
   "source": [
    "Set invalid payments if needed."
   ]
  },
  {
   "cell_type": "code",
   "execution_count": 402,
   "metadata": {
    "collapsed": true
   },
   "outputs": [],
   "source": [
    "pacted_terms.invalidPayments(_id=2)"
   ]
  },
  {
   "cell_type": "code",
   "execution_count": 403,
   "metadata": {
    "collapsed": false
   },
   "outputs": [
    {
     "name": "stdout",
     "output_type": "stream",
     "text": [
      "Dec 22 2016\n",
      "\n",
      "Status: Active.\n",
      "Days to go: 185\n",
      "\n",
      "Initial Capital: 100\n",
      "Final Capital  : 109.26\n",
      "Interest Rate (cont. annual): 11.9404 %\n",
      "Discount Rate (cont. annual): 5.6376 %\n",
      "\n",
      "Remaining Debt: 96.86\n",
      "Present Value : 94.1\n",
      "\n",
      "Payments info: \n",
      "\n",
      "- id: 1 date: Nov 27 2016 amount: 10\n",
      "- id: 3 date: Dec 14 2016 amount: 2\n"
     ]
    }
   ],
   "source": [
    "pacted_terms.summary()"
   ]
  },
  {
   "cell_type": "code",
   "execution_count": null,
   "metadata": {
    "collapsed": true
   },
   "outputs": [],
   "source": []
  }
 ],
 "metadata": {
  "anaconda-cloud": {},
  "kernelspec": {
   "display_name": "Python [conda root]",
   "language": "python",
   "name": "conda-root-py"
  },
  "language_info": {
   "codemirror_mode": {
    "name": "ipython",
    "version": 3
   },
   "file_extension": ".py",
   "mimetype": "text/x-python",
   "name": "python",
   "nbconvert_exporter": "python",
   "pygments_lexer": "ipython3",
   "version": "3.5.2"
  }
 },
 "nbformat": 4,
 "nbformat_minor": 1
}
